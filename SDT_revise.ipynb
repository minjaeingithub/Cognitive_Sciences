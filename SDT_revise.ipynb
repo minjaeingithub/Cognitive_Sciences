{
 "cells": [
  {
   "cell_type": "code",
   "execution_count": 1,
   "metadata": {},
   "outputs": [],
   "source": [
    "import numpy as np\n",
    "import seaborn as sns\n",
    "import matplotlib.pyplot as plt"
   ]
  },
  {
   "cell_type": "code",
   "execution_count": 2,
   "metadata": {},
   "outputs": [],
   "source": [
    "import ipywidgets as widgets\n",
    "from ipywidgets import interact, FloatSlider\n",
    "from IPython.display import display"
   ]
  },
  {
   "cell_type": "code",
   "execution_count": 17,
   "metadata": {},
   "outputs": [],
   "source": [
    "def sdt_function(signal, noise, criterion):\n",
    "    start = np.random.normal(0,1,size=(1000,1)) #noise\n",
    "    graph = start + signal\n",
    "    signal_present = np.random.rand(1000) >.5\n",
    "    \n",
    "    # Plot\n",
    "    sns.distplot(start, color=\"darkred\", label=\"Noise\")\n",
    "    sns.distplot(graph, color=\".2\", label=\"Signal\")\n",
    "    plt.axvline(x=criterion, color = \"blue\", label=\"Criterion\")\n",
    "    \n",
    "    criterion = graph > criterion # boolean\n",
    "    # Categorize into 4 parts\n",
    "    hit = criterion[signal_present]\n",
    "    miss = ~criterion[signal_present]\n",
    "    \n",
    "    fa = criterion[~signal_present]\n",
    "    cr = ~criterion[~signal_present]\n",
    "    # print(hit, miss, fa, cr)\n",
    "    \n",
    "    # Print rates\n",
    "    print(\"Hit rate: {:.2f}\".format(hit.mean()))\n",
    "    print(\"Miss rate: {:.2f}\".format(miss.mean())) \n",
    "    print(\"False alarm rate: {:.2f}\".format(fa.mean()))\n",
    "    print(\"Correct rejection rate: {:.2f}\".format(cr.mean()))\n",
    "    \n",
    "    #ROC\n",
    "    ## plot only one point corresponding 1 signal, 1 noise, 1 criterion scalar\n",
    "    f, ax = plt.subplots(figsize=(10, 10))\n",
    "    ax.plot(fa.mean(), hit.mean(), 'bo')\n",
    "    # ax.plot([0, 1], [0, 1], ls=\"--\", c=\".5\")\n",
    "    ax.set(xlabel=\"False alarms\", ylabel=\"Hits\")"
   ]
  },
  {
   "cell_type": "code",
   "execution_count": 20,
   "metadata": {},
   "outputs": [
    {
     "data": {
      "application/vnd.jupyter.widget-view+json": {
       "model_id": "5463ca0abc0847f380cf2a553ef87dab",
       "version_major": 2,
       "version_minor": 0
      },
      "text/plain": [
       "interactive(children=(FloatSlider(value=0.0, description='signal:', step=0.001), FloatSlider(value=0.0, descri…"
      ]
     },
     "metadata": {},
     "output_type": "display_data"
    },
    {
     "data": {
      "text/plain": [
       "<function __main__.sdt_function(signal, noise, criterion)>"
      ]
     },
     "execution_count": 20,
     "metadata": {},
     "output_type": "execute_result"
    }
   ],
   "source": [
    "interact(sdt_function,\n",
    "signal = widgets.FloatSlider(min=0, max=100,step=.001,description='signal:'),\n",
    "noise = widgets.FloatSlider(min=0, max=100,step=.001,description='noise:'),\n",
    "criterion = widgets.FloatSlider(min=0, max=100,step=.001,description='criterion :'))"
   ]
  },
  {
   "cell_type": "code",
   "execution_count": null,
   "metadata": {},
   "outputs": [],
   "source": []
  }
 ],
 "metadata": {
  "interpreter": {
   "hash": "e279a5a2dd61cf9b69d2d0d74bba88eaf92b8e653fd501d8be264e56680debd6"
  },
  "kernelspec": {
   "display_name": "Python 3.10.2 ('model01')",
   "language": "python",
   "name": "python3"
  },
  "language_info": {
   "codemirror_mode": {
    "name": "ipython",
    "version": 3
   },
   "file_extension": ".py",
   "mimetype": "text/x-python",
   "name": "python",
   "nbconvert_exporter": "python",
   "pygments_lexer": "ipython3",
   "version": "3.10.2"
  },
  "orig_nbformat": 4
 },
 "nbformat": 4,
 "nbformat_minor": 2
}
