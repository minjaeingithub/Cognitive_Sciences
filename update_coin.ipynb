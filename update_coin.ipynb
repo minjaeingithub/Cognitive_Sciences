{
 "cells": [
  {
   "cell_type": "code",
   "execution_count": 1,
   "metadata": {},
   "outputs": [],
   "source": [
    "import numpy as np\n",
    "import seaborn as sns\n",
    "import matplotlib.pyplot as plt"
   ]
  },
  {
   "cell_type": "code",
   "execution_count": 2,
   "metadata": {},
   "outputs": [],
   "source": [
    "from empiricaldist import Pmf"
   ]
  },
  {
   "cell_type": "code",
   "execution_count": 3,
   "metadata": {},
   "outputs": [],
   "source": [
    "#when not random \n",
    "#graph\n",
    "shuffled=[]\n",
    "\n",
    "arr= np.arange(2)\n",
    "if(arr[0] == 0):\n",
    "    for i in range(7):\n",
    "        shuffled+=\"H\"\n",
    "    for j in range(3):\n",
    "        shuffled.append(\"T\")\n",
    "        \n",
    "not_shuffled=[]\n",
    "not_shuffled += shuffled\n",
    "\n",
    "np.random.shuffle(shuffled)"
   ]
  },
  {
   "cell_type": "code",
   "execution_count": 14,
   "metadata": {},
   "outputs": [],
   "source": [
    "#To-do\n",
    "# 1) N=20으로 샘플링 set_size로 해놓고\n",
    "# 2) m = 10,15,20의 경우에 따라 not_shuffled 와 unshuffled 를 Plot\n",
    "\n",
    "\n",
    "hypos = np.linspace(0,1,101)\n",
    "prior = Pmf(1, hypos) #-> prior distribution\n",
    "\n",
    "likelihood_h = hypos\n",
    "likelihood_t = 1-hypos\n",
    "\n",
    "#likelihood calculation loop\n",
    "newData1 = shuffled*10\n",
    "newArr = []\n",
    "for i in range (len(newData1)-1):\n",
    "    if(newData1[i] == \"H\"):\n",
    "        newArr.append(likelihood_h)\n",
    "    else:\n",
    "         newArr.append(likelihood_t)\n",
    "         \n",
    "def update_coin(pmf, newData):\n",
    "    for d in range(len(newData) - 1 ):\n",
    "        pmf *= newArr[d]\n",
    "    pmf.normalize()\n"
   ]
  },
  {
   "cell_type": "code",
   "execution_count": 16,
   "metadata": {},
   "outputs": [
    {
     "ename": "TypeError",
     "evalue": "unsupported operand type(s) for *: 'method' and 'float'",
     "output_type": "error",
     "traceback": [
      "\u001b[0;31m---------------------------------------------------------------------------\u001b[0m",
      "\u001b[0;31mTypeError\u001b[0m                                 Traceback (most recent call last)",
      "\u001b[1;32m/Users/jominjae/Desktop/2022/Computational cogsci/update_coin.ipynb Cell 5'\u001b[0m in \u001b[0;36m<module>\u001b[0;34m\u001b[0m\n\u001b[1;32m      <a href='vscode-notebook-cell:/Users/jominjae/Desktop/2022/Computational%20cogsci/update_coin.ipynb#ch0000004?line=1'>2</a>\u001b[0m \u001b[39mfor\u001b[39;00m i \u001b[39min\u001b[39;00m \u001b[39mrange\u001b[39m(\u001b[39mlen\u001b[39m(newData1)\u001b[39m-\u001b[39m\u001b[39m1\u001b[39m):\n\u001b[1;32m      <a href='vscode-notebook-cell:/Users/jominjae/Desktop/2022/Computational%20cogsci/update_coin.ipynb#ch0000004?line=2'>3</a>\u001b[0m     posterior \u001b[39m=\u001b[39m prior\u001b[39m.\u001b[39mcopy\n\u001b[0;32m----> <a href='vscode-notebook-cell:/Users/jominjae/Desktop/2022/Computational%20cogsci/update_coin.ipynb#ch0000004?line=3'>4</a>\u001b[0m     update_coin(posterior, newData1)\n\u001b[1;32m      <a href='vscode-notebook-cell:/Users/jominjae/Desktop/2022/Computational%20cogsci/update_coin.ipynb#ch0000004?line=4'>5</a>\u001b[0m     prior \u001b[39m=\u001b[39m posterior\n",
      "\u001b[1;32m/Users/jominjae/Desktop/2022/Computational cogsci/update_coin.ipynb Cell 4'\u001b[0m in \u001b[0;36mupdate_coin\u001b[0;34m(pmf, newData)\u001b[0m\n\u001b[1;32m     <a href='vscode-notebook-cell:/Users/jominjae/Desktop/2022/Computational%20cogsci/update_coin.ipynb#ch0000003?line=21'>22</a>\u001b[0m \u001b[39mdef\u001b[39;00m \u001b[39mupdate_coin\u001b[39m(pmf, newData):\n\u001b[1;32m     <a href='vscode-notebook-cell:/Users/jominjae/Desktop/2022/Computational%20cogsci/update_coin.ipynb#ch0000003?line=22'>23</a>\u001b[0m     \u001b[39mfor\u001b[39;00m d \u001b[39min\u001b[39;00m \u001b[39mrange\u001b[39m(\u001b[39mlen\u001b[39m(newData) \u001b[39m-\u001b[39m \u001b[39m1\u001b[39m ):\n\u001b[0;32m---> <a href='vscode-notebook-cell:/Users/jominjae/Desktop/2022/Computational%20cogsci/update_coin.ipynb#ch0000003?line=23'>24</a>\u001b[0m         pmf \u001b[39m*\u001b[39m\u001b[39m=\u001b[39m newArr[d]\n\u001b[1;32m     <a href='vscode-notebook-cell:/Users/jominjae/Desktop/2022/Computational%20cogsci/update_coin.ipynb#ch0000003?line=24'>25</a>\u001b[0m     pmf\u001b[39m.\u001b[39mnormalize()\n",
      "\u001b[0;31mTypeError\u001b[0m: unsupported operand type(s) for *: 'method' and 'float'"
     ]
    }
   ],
   "source": [
    "#shuffled coin list\n",
    "for i in range(len(newData1)-1):\n",
    "    posterior = prior.copy\n",
    "    update_coin(posterior, newData1)\n",
    "    prior = posterior"
   ]
  }
 ],
 "metadata": {
  "interpreter": {
   "hash": "e279a5a2dd61cf9b69d2d0d74bba88eaf92b8e653fd501d8be264e56680debd6"
  },
  "kernelspec": {
   "display_name": "Python 3.10.2 ('model01')",
   "language": "python",
   "name": "python3"
  },
  "language_info": {
   "codemirror_mode": {
    "name": "ipython",
    "version": 3
   },
   "file_extension": ".py",
   "mimetype": "text/x-python",
   "name": "python",
   "nbconvert_exporter": "python",
   "pygments_lexer": "ipython3",
   "version": "3.10.2"
  },
  "orig_nbformat": 4
 },
 "nbformat": 4,
 "nbformat_minor": 2
}
